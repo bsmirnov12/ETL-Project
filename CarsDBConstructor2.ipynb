{
 "cells": [
  {
   "cell_type": "code",
   "execution_count": 25,
   "metadata": {},
   "outputs": [],
   "source": [
    "import pymongo\n",
    "import json\n",
    "client = pymongo.MongoClient('mongodb://localhost:27017')\n",
    "db = client.Dealers1_db\n",
    "cars = db.inventory"
   ]
  },
  {
   "cell_type": "code",
   "execution_count": 26,
   "metadata": {},
   "outputs": [],
   "source": [
    "jsonfile_list = ['data/khushiauto_cars.json','data/auto8000_cars.json','data/leopardmotors_cars.json','data/rahmanmotors_cars.json','data/simpleautos_cars.json','data/tabangimotors_cars.json']\n",
    "for jsonfile in jsonfile_list:\n",
    "    file_data = [json.loads(line) for line in open(jsonfile)]\n",
    "    cars.insert_many(file_data)"
   ]
  },
  {
   "cell_type": "code",
   "execution_count": 27,
   "metadata": {},
   "outputs": [
    {
     "name": "stdout",
     "output_type": "stream",
     "text": [
      "Collection(Database(MongoClient(host=['localhost:27017'], document_class=dict, tz_aware=False, connect=True), 'Dealers1_db'), 'inventory')\n"
     ]
    }
   ],
   "source": [
    "print(cars)"
   ]
  }
 ],
 "metadata": {
  "kernelspec": {
   "display_name": "Python 3",
   "language": "python",
   "name": "python3"
  },
  "language_info": {
   "codemirror_mode": {
    "name": "ipython",
    "version": 3
   },
   "file_extension": ".py",
   "mimetype": "text/x-python",
   "name": "python",
   "nbconvert_exporter": "python",
   "pygments_lexer": "ipython3",
   "version": "3.6.10"
  }
 },
 "nbformat": 4,
 "nbformat_minor": 4
}
