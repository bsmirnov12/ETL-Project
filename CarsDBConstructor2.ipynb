{
 "cells": [
  {
   "cell_type": "code",
   "execution_count": 8,
   "metadata": {},
   "outputs": [],
   "source": [
    "# Module used to connect Python with MongoDb\n",
    "import pymongo\n",
    "import json"
   ]
  },
  {
   "cell_type": "code",
   "execution_count": 9,
   "metadata": {},
   "outputs": [],
   "source": [
    "# The default port used by MongoDB is 27017\n",
    "client = pymongo.MongoClient('mongodb://localhost:27017')"
   ]
  },
  {
   "cell_type": "code",
   "execution_count": 10,
   "metadata": {},
   "outputs": [],
   "source": [
    "# Accessing DataBase: cars_db and Collections: inventory and dealers\n",
    "db = client.cars_db\n",
    "cars = db.inventory\n",
    "dealers = db.dealers"
   ]
  },
  {
   "cell_type": "code",
   "execution_count": 11,
   "metadata": {},
   "outputs": [
    {
     "name": "stdout",
     "output_type": "stream",
     "text": [
      "data/leopardmotors.json missing\n"
     ]
    }
   ],
   "source": [
    "# Adding the dealer information scraped from multiple car dealer websites into the dealership collection\n",
    "jsonfile_list = [\n",
    "    'data/khushiauto.json',\n",
    "    'data/auto8000.json',\n",
    "    'data/leopardmotors.json',\n",
    "    'data/rahmanmotors.json',\n",
    "    'data/simpleautos.json',\n",
    "    'data/tabangimotors.json'\n",
    "]\n",
    "\n",
    "for jsonfile in jsonfile_list:\n",
    "    try:\n",
    "        with open(jsonfile) as fd:\n",
    "            file_data = [json.loads(line) for line in fd]\n",
    "            dealers.insert_many(file_data)\n",
    "    except:\n",
    "        print(f\"{jsonfile} missing\")"
   ]
  },
  {
   "cell_type": "code",
   "execution_count": 12,
   "metadata": {},
   "outputs": [
    {
     "name": "stdout",
     "output_type": "stream",
     "text": [
      "data/leopardmotors_cars.json missing\n"
     ]
    }
   ],
   "source": [
    "# Adding the car information scraped from multiple car dealer websites into the inventory collection\n",
    "jsonfile_list = [\n",
    "    'data/khushiauto_cars.json',\n",
    "    'data/auto8000_cars.json',\n",
    "    'data/leopardmotors_cars.json',\n",
    "    'data/rahmanmotors_cars.json',\n",
    "    'data/simpleautos_cars.json',\n",
    "    'data/tabangimotors_cars.json'\n",
    "]\n",
    "\n",
    "for jsonfile in jsonfile_list:\n",
    "    try:\n",
    "        with open(jsonfile) as fd:\n",
    "            file_data = [json.loads(line) for line in open(jsonfile)]\n",
    "            cars.insert_many(file_data)\n",
    "    except:\n",
    "          print(f\"{jsonfile} missing\")"
   ]
  },
  {
   "cell_type": "code",
   "execution_count": 13,
   "metadata": {},
   "outputs": [
    {
     "name": "stdout",
     "output_type": "stream",
     "text": [
      "5\n"
     ]
    }
   ],
   "source": [
    "print(dealers.estimated_document_count())"
   ]
  },
  {
   "cell_type": "code",
   "execution_count": 14,
   "metadata": {},
   "outputs": [
    {
     "name": "stdout",
     "output_type": "stream",
     "text": [
      "339\n"
     ]
    }
   ],
   "source": [
    "print(cars.estimated_document_count())"
   ]
  },
  {
   "cell_type": "code",
   "execution_count": null,
   "metadata": {},
   "outputs": [],
   "source": []
  }
 ],
 "metadata": {
  "kernelspec": {
   "display_name": "Python 3",
   "language": "python",
   "name": "python3"
  },
  "language_info": {
   "codemirror_mode": {
    "name": "ipython",
    "version": 3
   },
   "file_extension": ".py",
   "mimetype": "text/x-python",
   "name": "python",
   "nbconvert_exporter": "python",
   "pygments_lexer": "ipython3",
   "version": "3.6.10"
  }
 },
 "nbformat": 4,
 "nbformat_minor": 4
}
