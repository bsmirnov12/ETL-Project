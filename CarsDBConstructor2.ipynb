{
 "cells": [
  {
   "cell_type": "code",
   "execution_count": 31,
   "metadata": {},
   "outputs": [],
   "source": [
    "# Module used to connect Python with MongoDb\n",
    "import pymongo\n",
    "import json"
   ]
  },
  {
   "cell_type": "code",
   "execution_count": 32,
   "metadata": {},
   "outputs": [],
   "source": [
    "# The default port used by MongoDB is 27017\n",
    "client = pymongo.MongoClient('mongodb://localhost:27017')"
   ]
  },
  {
   "cell_type": "code",
   "execution_count": 33,
   "metadata": {},
   "outputs": [],
   "source": [
    "# Accessing DataBase: cars_db and Collections: inventory and dealers\n",
    "db = client.cars_db\n",
    "cars = db.inventory\n",
    "dealers = db.dealers"
   ]
  },
  {
   "cell_type": "code",
   "execution_count": 36,
   "metadata": {},
   "outputs": [],
   "source": [
    "# Adding the dealer information scraped from multiple car dealer websites into the dealership collection\n",
    "jsonfile_list = ['data/khushiauto.json','data/auto8000.json','data/leopardmotors.json','data/rahmanmotors.json','data/simpleautos.json','data/tabangimotors.json']\n",
    "for jsonfile in jsonfile_list:\n",
    "    file_data = [json.loads(line) for line in open(jsonfile)]\n",
    "    dealers.insert_many(file_data)"
   ]
  },
  {
   "cell_type": "code",
   "execution_count": 34,
   "metadata": {},
   "outputs": [],
   "source": [
    "# Adding the car information scraped from multiple car dealer websites into the inventory collection\n",
    "jsonfile_list2 = ['data/khushiauto_cars.json','data/auto8000_cars.json','data/leopardmotors_cars.json','data/rahmanmotors_cars.json','data/simpleautos_cars.json','data/tabangimotors_cars.json']\n",
    "for jsonfile2 in jsonfile_list2:\n",
    "    file_data2 = [json.loads(line) for line in open(jsonfile2)]\n",
    "    cars.insert_many(file_data2)"
   ]
  },
  {
   "cell_type": "code",
   "execution_count": 37,
   "metadata": {},
   "outputs": [
    {
     "name": "stdout",
     "output_type": "stream",
     "text": [
      "Collection(Database(MongoClient(host=['localhost:27017'], document_class=dict, tz_aware=False, connect=True), 'cars_db'), 'dealers')\n"
     ]
    }
   ],
   "source": [
    "print(dealers)"
   ]
  },
  {
   "cell_type": "code",
   "execution_count": 35,
   "metadata": {},
   "outputs": [
    {
     "name": "stdout",
     "output_type": "stream",
     "text": [
      "Collection(Database(MongoClient(host=['localhost:27017'], document_class=dict, tz_aware=False, connect=True), 'cars_db'), 'inventory')\n"
     ]
    }
   ],
   "source": [
    "print(cars)"
   ]
  }
 ],
 "metadata": {
  "kernelspec": {
   "display_name": "Python 3",
   "language": "python",
   "name": "python3"
  },
  "language_info": {
   "codemirror_mode": {
    "name": "ipython",
    "version": 3
   },
   "file_extension": ".py",
   "mimetype": "text/x-python",
   "name": "python",
   "nbconvert_exporter": "python",
   "pygments_lexer": "ipython3",
   "version": "3.6.10"
  }
 },
 "nbformat": 4,
 "nbformat_minor": 4
}
