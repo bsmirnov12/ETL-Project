{
 "cells": [
  {
   "cell_type": "code",
   "execution_count": 4,
   "metadata": {},
   "outputs": [],
   "source": [
    "# Module used to connect Python with MongoDb\n",
    "import pymongo\n",
    "import json"
   ]
  },
  {
   "cell_type": "code",
   "execution_count": 5,
   "metadata": {},
   "outputs": [],
   "source": [
    "# The default port used by MongoDB is 27017\n",
    "# https://docs.mongodb.com/manual/reference/default-mongodb-port/\n",
    "conn = 'mongodb://localhost:27017'\n",
    "client = pymongo.MongoClient(conn)\n",
    "\n",
    "# Define the 'DB' database in Mongo\n",
    "db = client.Dealers1_db"
   ]
  },
  {
   "cell_type": "code",
   "execution_count": 13,
   "metadata": {},
   "outputs": [
    {
     "name": "stdout",
     "output_type": "stream",
     "text": [
      "{'_id': ObjectId('5ea6e9a68c198d26a3483bb2'), 'id': 'auto8000', 'name': 'Auto 8000 Wholesaler & Services Inc.', 'street': '260 Dundas St. West', 'city': 'Mississauga', 'zip': 'L5B1J2', 'province': 'ON', 'phone': '(905) 566-7888', 'url': 'https://www.auto8000.ca', 'latitude': '43.574655', 'longitude': '-79.622358'}\n",
      "{'_id': ObjectId('5ea6e9b68c198d26a3483bb3'), 'id': 'auto8000', 'name': 'Auto 8000 Wholesaler & Services Inc.', 'street': '260 Dundas St. West', 'city': 'Mississauga', 'zip': 'L5B1J2', 'province': 'ON', 'phone': '(905) 566-7888', 'url': 'https://www.auto8000.ca', 'latitude': '43.574655', 'longitude': '-79.622358'}\n",
      "{'_id': ObjectId('5ea6e9ba8c198d26a3483bb4'), 'id': 'auto8000', 'name': 'Auto 8000 Wholesaler & Services Inc.', 'street': '260 Dundas St. West', 'city': 'Mississauga', 'zip': 'L5B1J2', 'province': 'ON', 'phone': '(905) 566-7888', 'url': 'https://www.auto8000.ca', 'latitude': '43.574655', 'longitude': '-79.622358'}\n",
      "{'_id': ObjectId('5ea6ec7112474474784a2809'), 'id': 'auto8000', 'name': 'Auto 8000 Wholesaler & Services Inc.', 'street': '260 Dundas St. West', 'city': 'Mississauga', 'zip': 'L5B1J2', 'province': 'ON', 'phone': '(905) 566-7888', 'url': 'https://www.auto8000.ca', 'latitude': '43.574655', 'longitude': '-79.622358'}\n",
      "{'_id': ObjectId('5ea6ec7612474474784a280a'), 'id': 'auto8000', 'name': 'Auto 8000 Wholesaler & Services Inc.', 'street': '260 Dundas St. West', 'city': 'Mississauga', 'zip': 'L5B1J2', 'province': 'ON', 'phone': '(905) 566-7888', 'url': 'https://www.auto8000.ca', 'latitude': '43.574655', 'longitude': '-79.622358'}\n",
      "{'_id': ObjectId('5ea6ec8712474474784a280b'), 'id': 'auto8000', 'name': 'Auto 8000 Wholesaler & Services Inc.', 'street': '260 Dundas St. West', 'city': 'Mississauga', 'zip': 'L5B1J2', 'province': 'ON', 'phone': '(905) 566-7888', 'url': 'https://www.auto8000.ca', 'latitude': '43.574655', 'longitude': '-79.622358'}\n"
     ]
    }
   ],
   "source": [
    "# Query all students\n",
    "# Here, db.Cars1 refers to the collection 'cars '\n",
    "cars = db.Cars1.find()\n",
    "\n",
    "# Iterate through each cars in the collection\n",
    "for car in cars:\n",
    "    print(car)"
   ]
  },
  {
   "cell_type": "code",
   "execution_count": 12,
   "metadata": {},
   "outputs": [],
   "source": [
    "# Insert a document into the 'Cars1' collection\n",
    "with open('data/auto8000_cars.json') as f:\n",
    "    file_data = json.load(f)\n",
    "    \n",
    "    db.Cars1.insert_many(file_data)\n",
    "\n",
    "client.close()\n",
    "    \n",
    "\n",
    "# see change in collection\n",
    "for car in cars:\n",
    "    print(cars)"
   ]
  },
  {
   "cell_type": "code",
   "execution_count": null,
   "metadata": {},
   "outputs": [],
   "source": []
  }
 ],
 "metadata": {
  "kernelspec": {
   "display_name": "Python 3",
   "language": "python",
   "name": "python3"
  },
  "language_info": {
   "codemirror_mode": {
    "name": "ipython",
    "version": 3
   },
   "file_extension": ".py",
   "mimetype": "text/x-python",
   "name": "python",
   "nbconvert_exporter": "python",
   "pygments_lexer": "ipython3",
   "version": "3.6.10"
  }
 },
 "nbformat": 4,
 "nbformat_minor": 4
}
